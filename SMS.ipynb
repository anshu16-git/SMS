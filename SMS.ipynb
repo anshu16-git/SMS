{
  "nbformat": 4,
  "nbformat_minor": 0,
  "metadata": {
    "colab": {
      "name": "SMS.ipynb",
      "provenance": []
    },
    "kernelspec": {
      "name": "python3",
      "display_name": "Python 3"
    },
    "language_info": {
      "name": "python"
    }
  },
  "cells": [
    {
      "cell_type": "markdown",
      "metadata": {
        "id": "RE0kL4DZwqv4"
      },
      "source": [
        "for sending sms through fats2sms u first have to sign up account on fast2sms then on clicking on Dev API u will find ur API key so that u can send ur bulk messages through fast2sms."
      ]
    },
    {
      "cell_type": "code",
      "metadata": {
        "id": "BhPeujzIsTa8"
      },
      "source": [
        "# import required module\n",
        "import requests\n",
        "import json"
      ],
      "execution_count": 1,
      "outputs": []
    },
    {
      "cell_type": "code",
      "metadata": {
        "id": "7f5Y0CsEtaTQ"
      },
      "source": [
        "# mention url\n",
        "url = \"https://www.fast2sms.com/dev/bulk\"\n",
        "    \n",
        "# create a dictionary\n",
        "my_data = {\n",
        "     # Your default Sender ID\n",
        "    'sender_id': 'TXTIND', \n",
        "    \n",
        "     # Put your message here!\n",
        "    'message': 'YOUR MESSAGE HERE', \n",
        "    'language': 'english',\n",
        "    'route': 'p',\n",
        "    \n",
        "    # You can send sms to multiple numbers\n",
        "    # separated by comma.\n",
        "    'numbers': '**********,*********,*********'   \n",
        "}\n",
        "  \n",
        "# create a dictionary\n",
        "headers = {\n",
        "    'authorization': 'YOUR API KEY',\n",
        "    'Content-Type': \"application/x-www-form-urlencoded\",\n",
        "    'Cache-Control': \"no-cache\"\n",
        "}"
      ],
      "execution_count": 5,
      "outputs": []
    },
    {
      "cell_type": "code",
      "metadata": {
        "colab": {
          "base_uri": "https://localhost:8080/"
        },
        "id": "DrIzgt_CuNxo",
        "outputId": "f160bc7f-f2e8-4d34-b65d-291f6434b084"
      },
      "source": [
        "# make a post request\n",
        "response = requests.request(\"POST\",\n",
        "                            url,\n",
        "                            data = my_data,\n",
        "                            headers = headers)\n",
        "#load json data from source\n",
        "returned_msg = json.loads(response.text)\n",
        "  \n",
        "# print the send message\n",
        "print(returned_msg['message'])"
      ],
      "execution_count": 6,
      "outputs": [
        {
          "output_type": "stream",
          "text": [
            "['SMS sent successfully.']\n"
          ],
          "name": "stdout"
        }
      ]
    }
  ]
}